{
 "cells": [
  {
   "cell_type": "markdown",
   "id": "4105701e-4f56-4a16-a74d-01b83da2f637",
   "metadata": {},
   "source": [
    "# Transformación de los datos"
   ]
  },
  {
   "cell_type": "markdown",
   "id": "8ffbcc43-bdb9-4f5e-ad47-a37f13b3e53b",
   "metadata": {},
   "source": [
    "## 1. Importar paquetes"
   ]
  },
  {
   "cell_type": "code",
   "execution_count": 48,
   "id": "3e09fd9d-3c21-4c99-9323-de578ee2951f",
   "metadata": {},
   "outputs": [],
   "source": [
    "import numpy as np\n",
    "import pandas as pd\n",
    "from sklearn.preprocessing import OneHotEncoder, StandardScaler, MinMaxScaler\n",
    "\n",
    "%config IPCompleter.greedy = True"
   ]
  },
  {
   "cell_type": "markdown",
   "id": "f9e02167-8407-4b47-b35d-76a19610549a",
   "metadata": {},
   "source": [
    "## 2. Carga de los datos"
   ]
  },
  {
   "cell_type": "code",
   "execution_count": 49,
   "id": "d25a028a-28bc-49ac-8d51-81020591ec37",
   "metadata": {},
   "outputs": [],
   "source": [
    "ruta = 'C:/Users/matia/OneDrive/Escritorio/Churn_Bank'"
   ]
  },
  {
   "cell_type": "code",
   "execution_count": 50,
   "id": "a8aabd89-2e1f-411f-9281-ba4fad35ee1b",
   "metadata": {},
   "outputs": [],
   "source": [
    "nombre_cat = 'cat_resultado_calidad.pickle'\n",
    "nombre_num = 'num_resultado_calidad.pickle'"
   ]
  },
  {
   "cell_type": "code",
   "execution_count": 51,
   "id": "c264d415-0215-4ac5-978d-1e2a8ce7d662",
   "metadata": {},
   "outputs": [],
   "source": [
    "cat = pd.read_pickle(ruta + '/02_Datos/03_Trabajo/' + nombre_cat)\n",
    "num = pd.read_pickle(ruta + '/02_Datos/03_Trabajo/' + nombre_num)"
   ]
  },
  {
   "cell_type": "markdown",
   "id": "dc93c77a-dc9a-426e-b287-740c6f079389",
   "metadata": {},
   "source": [
    "## 3. Variables categoricas"
   ]
  },
  {
   "cell_type": "markdown",
   "id": "cbfc6cc2-73fc-4a39-8228-c79171791f71",
   "metadata": {},
   "source": [
    "Es necesario explicar la siguiente decisión. Por que si las variables categoricas ya estan ingresadas con valores numericos si aplica OheHotEnconder? La razón es que al plantear el objetivo de crear un perfil de clientes utilizando modelos de ML, lo que buscamos no es solamente es ver que variables tienen más peso para el modelo sino que valores tambien impactan en el proceso y así obtener más información."
   ]
  },
  {
   "cell_type": "markdown",
   "id": "d4081c9f-be78-401f-bd25-ce0c9b323677",
   "metadata": {},
   "source": [
    "### 3.1 Instanciar la transformación"
   ]
  },
  {
   "cell_type": "code",
   "execution_count": 52,
   "id": "c502164a-174a-4856-b841-507809fc0ce7",
   "metadata": {},
   "outputs": [],
   "source": [
    "ohe = OneHotEncoder(sparse_output = False, handle_unknown = 'ignore')"
   ]
  },
  {
   "cell_type": "markdown",
   "id": "2859b4aa-c31c-4ee1-8b9c-b13279c895e1",
   "metadata": {},
   "source": [
    "### 3.2 Aplicar"
   ]
  },
  {
   "cell_type": "code",
   "execution_count": 53,
   "id": "c32abe2f-9c03-40e9-a953-a64f06c6dc32",
   "metadata": {},
   "outputs": [],
   "source": [
    "cat_ohe = ohe.fit_transform(cat)"
   ]
  },
  {
   "cell_type": "markdown",
   "id": "a3fe8ccd-8377-4a73-bc78-5cbf6db2441f",
   "metadata": {},
   "source": [
    "### 3.3 Recuperar la información"
   ]
  },
  {
   "cell_type": "code",
   "execution_count": 54,
   "id": "19c9f822-ea10-4fe2-b8ba-98bc112b613b",
   "metadata": {},
   "outputs": [],
   "source": [
    "cat_ohe = pd.DataFrame(cat_ohe, columns = ohe.get_feature_names_out())"
   ]
  },
  {
   "cell_type": "markdown",
   "id": "63d477a7-c438-400e-ae0a-73af77f8114f",
   "metadata": {},
   "source": [
    "## 4. Variables numericas"
   ]
  },
  {
   "cell_type": "markdown",
   "id": "b6d7c0c1-d270-4e41-b8ef-33fdcb86f393",
   "metadata": {},
   "source": [
    "Dada las distribuciones de las variables numericas, vamos a aplicar dos transformaciones diferentes. Para las variables que tiene una distribucion cercana a la normal, se les aplica el StandardScaler. Mientras que las que posee multiples distribuciones se usa el MinMaxScaler."
   ]
  },
  {
   "cell_type": "markdown",
   "id": "e6a004d8-bb77-4ab0-9ab2-1e81c1fb9789",
   "metadata": {},
   "source": [
    "### 4.1 Seleccionar las variables"
   ]
  },
  {
   "cell_type": "code",
   "execution_count": 55,
   "id": "56fbccb5-3495-4aa2-976a-2f73a3ba4a34",
   "metadata": {},
   "outputs": [],
   "source": [
    "var_1 = ['CreditScore', 'Age', 'Tenure', 'EstimatedSalary']"
   ]
  },
  {
   "cell_type": "code",
   "execution_count": 56,
   "id": "f9c41814-6e24-43c7-a94a-af8fcf5adfb7",
   "metadata": {},
   "outputs": [],
   "source": [
    "var_2 = ['Balance', 'NumOfProducts']"
   ]
  },
  {
   "cell_type": "markdown",
   "id": "2ec39542-86c8-4550-bc9f-1cfd8f618cbb",
   "metadata": {},
   "source": [
    "### 4.2 Instanciar y aplicar"
   ]
  },
  {
   "cell_type": "code",
   "execution_count": 57,
   "id": "60572f64-881c-478f-8c77-d29868606aa1",
   "metadata": {},
   "outputs": [],
   "source": [
    "std_scaler = StandardScaler()\n",
    "num[var_1] = std_scaler.fit_transform(num[var_1])"
   ]
  },
  {
   "cell_type": "code",
   "execution_count": 58,
   "id": "c07086a0-cba6-4641-a6fe-d9c4d15e0f82",
   "metadata": {},
   "outputs": [],
   "source": [
    "mm_scaler = MinMaxScaler()\n",
    "num[var_2] = mm_scaler.fit_transform(num[var_2])"
   ]
  },
  {
   "cell_type": "markdown",
   "id": "b7cd4c52-79c2-4f21-ad3b-b76e96042d6c",
   "metadata": {},
   "source": [
    "## 5. Unir los datasets"
   ]
  },
  {
   "cell_type": "code",
   "execution_count": 62,
   "id": "cdbfa694-fdfa-4ff3-82d8-ef86e2868988",
   "metadata": {},
   "outputs": [],
   "source": [
    "df_tablon = pd.concat([cat_ohe, num], axis = 1)"
   ]
  },
  {
   "cell_type": "code",
   "execution_count": 63,
   "id": "a037566d-a617-4448-9e43-c9e01e5df494",
   "metadata": {},
   "outputs": [
    {
     "data": {
      "text/html": [
       "<div>\n",
       "<style scoped>\n",
       "    .dataframe tbody tr th:only-of-type {\n",
       "        vertical-align: middle;\n",
       "    }\n",
       "\n",
       "    .dataframe tbody tr th {\n",
       "        vertical-align: top;\n",
       "    }\n",
       "\n",
       "    .dataframe thead th {\n",
       "        text-align: right;\n",
       "    }\n",
       "</style>\n",
       "<table border=\"1\" class=\"dataframe\">\n",
       "  <thead>\n",
       "    <tr style=\"text-align: right;\">\n",
       "      <th></th>\n",
       "      <th>Geography_France</th>\n",
       "      <th>Geography_Germany</th>\n",
       "      <th>Geography_Spain</th>\n",
       "      <th>Gender_Female</th>\n",
       "      <th>Gender_Male</th>\n",
       "      <th>HasCrCard_0</th>\n",
       "      <th>HasCrCard_1</th>\n",
       "      <th>IsActiveMember_0</th>\n",
       "      <th>IsActiveMember_1</th>\n",
       "      <th>CreditScore</th>\n",
       "      <th>Age</th>\n",
       "      <th>Tenure</th>\n",
       "      <th>Balance</th>\n",
       "      <th>NumOfProducts</th>\n",
       "      <th>EstimatedSalary</th>\n",
       "      <th>Exited</th>\n",
       "    </tr>\n",
       "  </thead>\n",
       "  <tbody>\n",
       "    <tr>\n",
       "      <th>0</th>\n",
       "      <td>1.0</td>\n",
       "      <td>0.0</td>\n",
       "      <td>0.0</td>\n",
       "      <td>1.0</td>\n",
       "      <td>0.0</td>\n",
       "      <td>0.0</td>\n",
       "      <td>1.0</td>\n",
       "      <td>0.0</td>\n",
       "      <td>1.0</td>\n",
       "      <td>-0.326221</td>\n",
       "      <td>0.293517</td>\n",
       "      <td>-1.041760</td>\n",
       "      <td>0.000000</td>\n",
       "      <td>0.000000</td>\n",
       "      <td>0.021886</td>\n",
       "      <td>1</td>\n",
       "    </tr>\n",
       "    <tr>\n",
       "      <th>1</th>\n",
       "      <td>0.0</td>\n",
       "      <td>0.0</td>\n",
       "      <td>1.0</td>\n",
       "      <td>1.0</td>\n",
       "      <td>0.0</td>\n",
       "      <td>1.0</td>\n",
       "      <td>0.0</td>\n",
       "      <td>0.0</td>\n",
       "      <td>1.0</td>\n",
       "      <td>-0.440036</td>\n",
       "      <td>0.198164</td>\n",
       "      <td>-1.387538</td>\n",
       "      <td>0.334031</td>\n",
       "      <td>0.000000</td>\n",
       "      <td>0.216534</td>\n",
       "      <td>0</td>\n",
       "    </tr>\n",
       "    <tr>\n",
       "      <th>2</th>\n",
       "      <td>1.0</td>\n",
       "      <td>0.0</td>\n",
       "      <td>0.0</td>\n",
       "      <td>1.0</td>\n",
       "      <td>0.0</td>\n",
       "      <td>0.0</td>\n",
       "      <td>1.0</td>\n",
       "      <td>1.0</td>\n",
       "      <td>0.0</td>\n",
       "      <td>-1.536794</td>\n",
       "      <td>0.293517</td>\n",
       "      <td>1.032908</td>\n",
       "      <td>0.636357</td>\n",
       "      <td>0.666667</td>\n",
       "      <td>0.240687</td>\n",
       "      <td>1</td>\n",
       "    </tr>\n",
       "    <tr>\n",
       "      <th>3</th>\n",
       "      <td>1.0</td>\n",
       "      <td>0.0</td>\n",
       "      <td>0.0</td>\n",
       "      <td>1.0</td>\n",
       "      <td>0.0</td>\n",
       "      <td>1.0</td>\n",
       "      <td>0.0</td>\n",
       "      <td>1.0</td>\n",
       "      <td>0.0</td>\n",
       "      <td>0.501521</td>\n",
       "      <td>0.007457</td>\n",
       "      <td>-1.387538</td>\n",
       "      <td>0.000000</td>\n",
       "      <td>0.333333</td>\n",
       "      <td>-0.108918</td>\n",
       "      <td>0</td>\n",
       "    </tr>\n",
       "    <tr>\n",
       "      <th>4</th>\n",
       "      <td>0.0</td>\n",
       "      <td>0.0</td>\n",
       "      <td>1.0</td>\n",
       "      <td>1.0</td>\n",
       "      <td>0.0</td>\n",
       "      <td>0.0</td>\n",
       "      <td>1.0</td>\n",
       "      <td>0.0</td>\n",
       "      <td>1.0</td>\n",
       "      <td>2.063884</td>\n",
       "      <td>0.388871</td>\n",
       "      <td>-1.041760</td>\n",
       "      <td>0.500246</td>\n",
       "      <td>0.000000</td>\n",
       "      <td>-0.365276</td>\n",
       "      <td>0</td>\n",
       "    </tr>\n",
       "    <tr>\n",
       "      <th>...</th>\n",
       "      <td>...</td>\n",
       "      <td>...</td>\n",
       "      <td>...</td>\n",
       "      <td>...</td>\n",
       "      <td>...</td>\n",
       "      <td>...</td>\n",
       "      <td>...</td>\n",
       "      <td>...</td>\n",
       "      <td>...</td>\n",
       "      <td>...</td>\n",
       "      <td>...</td>\n",
       "      <td>...</td>\n",
       "      <td>...</td>\n",
       "      <td>...</td>\n",
       "      <td>...</td>\n",
       "      <td>...</td>\n",
       "    </tr>\n",
       "    <tr>\n",
       "      <th>9995</th>\n",
       "      <td>1.0</td>\n",
       "      <td>0.0</td>\n",
       "      <td>0.0</td>\n",
       "      <td>0.0</td>\n",
       "      <td>1.0</td>\n",
       "      <td>0.0</td>\n",
       "      <td>1.0</td>\n",
       "      <td>1.0</td>\n",
       "      <td>0.0</td>\n",
       "      <td>1.246488</td>\n",
       "      <td>0.007457</td>\n",
       "      <td>-0.004426</td>\n",
       "      <td>0.000000</td>\n",
       "      <td>0.333333</td>\n",
       "      <td>-0.066419</td>\n",
       "      <td>0</td>\n",
       "    </tr>\n",
       "    <tr>\n",
       "      <th>9996</th>\n",
       "      <td>1.0</td>\n",
       "      <td>0.0</td>\n",
       "      <td>0.0</td>\n",
       "      <td>0.0</td>\n",
       "      <td>1.0</td>\n",
       "      <td>0.0</td>\n",
       "      <td>1.0</td>\n",
       "      <td>0.0</td>\n",
       "      <td>1.0</td>\n",
       "      <td>-1.391939</td>\n",
       "      <td>-0.373958</td>\n",
       "      <td>1.724464</td>\n",
       "      <td>0.228657</td>\n",
       "      <td>0.000000</td>\n",
       "      <td>0.027988</td>\n",
       "      <td>0</td>\n",
       "    </tr>\n",
       "    <tr>\n",
       "      <th>9997</th>\n",
       "      <td>1.0</td>\n",
       "      <td>0.0</td>\n",
       "      <td>0.0</td>\n",
       "      <td>1.0</td>\n",
       "      <td>0.0</td>\n",
       "      <td>1.0</td>\n",
       "      <td>0.0</td>\n",
       "      <td>0.0</td>\n",
       "      <td>1.0</td>\n",
       "      <td>0.604988</td>\n",
       "      <td>-0.278604</td>\n",
       "      <td>0.687130</td>\n",
       "      <td>0.000000</td>\n",
       "      <td>0.000000</td>\n",
       "      <td>-1.008643</td>\n",
       "      <td>1</td>\n",
       "    </tr>\n",
       "    <tr>\n",
       "      <th>9998</th>\n",
       "      <td>0.0</td>\n",
       "      <td>1.0</td>\n",
       "      <td>0.0</td>\n",
       "      <td>0.0</td>\n",
       "      <td>1.0</td>\n",
       "      <td>0.0</td>\n",
       "      <td>1.0</td>\n",
       "      <td>1.0</td>\n",
       "      <td>0.0</td>\n",
       "      <td>1.256835</td>\n",
       "      <td>0.293517</td>\n",
       "      <td>-0.695982</td>\n",
       "      <td>0.299226</td>\n",
       "      <td>0.333333</td>\n",
       "      <td>-0.125231</td>\n",
       "      <td>1</td>\n",
       "    </tr>\n",
       "    <tr>\n",
       "      <th>9999</th>\n",
       "      <td>1.0</td>\n",
       "      <td>0.0</td>\n",
       "      <td>0.0</td>\n",
       "      <td>1.0</td>\n",
       "      <td>0.0</td>\n",
       "      <td>0.0</td>\n",
       "      <td>1.0</td>\n",
       "      <td>1.0</td>\n",
       "      <td>0.0</td>\n",
       "      <td>1.463771</td>\n",
       "      <td>-1.041433</td>\n",
       "      <td>-0.350204</td>\n",
       "      <td>0.518708</td>\n",
       "      <td>0.000000</td>\n",
       "      <td>-1.076370</td>\n",
       "      <td>0</td>\n",
       "    </tr>\n",
       "  </tbody>\n",
       "</table>\n",
       "<p>10000 rows × 16 columns</p>\n",
       "</div>"
      ],
      "text/plain": [
       "      Geography_France  Geography_Germany  Geography_Spain  Gender_Female  \\\n",
       "0                  1.0                0.0              0.0            1.0   \n",
       "1                  0.0                0.0              1.0            1.0   \n",
       "2                  1.0                0.0              0.0            1.0   \n",
       "3                  1.0                0.0              0.0            1.0   \n",
       "4                  0.0                0.0              1.0            1.0   \n",
       "...                ...                ...              ...            ...   \n",
       "9995               1.0                0.0              0.0            0.0   \n",
       "9996               1.0                0.0              0.0            0.0   \n",
       "9997               1.0                0.0              0.0            1.0   \n",
       "9998               0.0                1.0              0.0            0.0   \n",
       "9999               1.0                0.0              0.0            1.0   \n",
       "\n",
       "      Gender_Male  HasCrCard_0  HasCrCard_1  IsActiveMember_0  \\\n",
       "0             0.0          0.0          1.0               0.0   \n",
       "1             0.0          1.0          0.0               0.0   \n",
       "2             0.0          0.0          1.0               1.0   \n",
       "3             0.0          1.0          0.0               1.0   \n",
       "4             0.0          0.0          1.0               0.0   \n",
       "...           ...          ...          ...               ...   \n",
       "9995          1.0          0.0          1.0               1.0   \n",
       "9996          1.0          0.0          1.0               0.0   \n",
       "9997          0.0          1.0          0.0               0.0   \n",
       "9998          1.0          0.0          1.0               1.0   \n",
       "9999          0.0          0.0          1.0               1.0   \n",
       "\n",
       "      IsActiveMember_1  CreditScore       Age    Tenure   Balance  \\\n",
       "0                  1.0    -0.326221  0.293517 -1.041760  0.000000   \n",
       "1                  1.0    -0.440036  0.198164 -1.387538  0.334031   \n",
       "2                  0.0    -1.536794  0.293517  1.032908  0.636357   \n",
       "3                  0.0     0.501521  0.007457 -1.387538  0.000000   \n",
       "4                  1.0     2.063884  0.388871 -1.041760  0.500246   \n",
       "...                ...          ...       ...       ...       ...   \n",
       "9995               0.0     1.246488  0.007457 -0.004426  0.000000   \n",
       "9996               1.0    -1.391939 -0.373958  1.724464  0.228657   \n",
       "9997               1.0     0.604988 -0.278604  0.687130  0.000000   \n",
       "9998               0.0     1.256835  0.293517 -0.695982  0.299226   \n",
       "9999               0.0     1.463771 -1.041433 -0.350204  0.518708   \n",
       "\n",
       "      NumOfProducts  EstimatedSalary  Exited  \n",
       "0          0.000000         0.021886       1  \n",
       "1          0.000000         0.216534       0  \n",
       "2          0.666667         0.240687       1  \n",
       "3          0.333333        -0.108918       0  \n",
       "4          0.000000        -0.365276       0  \n",
       "...             ...              ...     ...  \n",
       "9995       0.333333        -0.066419       0  \n",
       "9996       0.000000         0.027988       0  \n",
       "9997       0.000000        -1.008643       1  \n",
       "9998       0.333333        -0.125231       1  \n",
       "9999       0.000000        -1.076370       0  \n",
       "\n",
       "[10000 rows x 16 columns]"
      ]
     },
     "execution_count": 63,
     "metadata": {},
     "output_type": "execute_result"
    }
   ],
   "source": [
    "df_tablon"
   ]
  },
  {
   "cell_type": "markdown",
   "id": "17646c15-5c52-4f54-ad10-94cbe35143df",
   "metadata": {},
   "source": [
    "## 6. Guardar el nuevo dataset"
   ]
  },
  {
   "cell_type": "code",
   "execution_count": 64,
   "id": "be656479-0078-4507-bdd9-05fcc37aff8c",
   "metadata": {},
   "outputs": [],
   "source": [
    "ruta_df_tablon = ruta + '/02_Datos/03_Trabajo/' + 'df_tablon.pickle'"
   ]
  },
  {
   "cell_type": "code",
   "execution_count": 65,
   "id": "5ada7515-96f0-4245-88dd-831fe06fc478",
   "metadata": {},
   "outputs": [],
   "source": [
    "df_tablon.to_pickle(ruta_df_tablon)"
   ]
  },
  {
   "cell_type": "code",
   "execution_count": null,
   "id": "6d0e334f-df32-48a6-9048-2b82c6058a79",
   "metadata": {},
   "outputs": [],
   "source": []
  }
 ],
 "metadata": {
  "kernelspec": {
   "display_name": "Python 3 (ipykernel)",
   "language": "python",
   "name": "python3"
  },
  "language_info": {
   "codemirror_mode": {
    "name": "ipython",
    "version": 3
   },
   "file_extension": ".py",
   "mimetype": "text/x-python",
   "name": "python",
   "nbconvert_exporter": "python",
   "pygments_lexer": "ipython3",
   "version": "3.12.4"
  }
 },
 "nbformat": 4,
 "nbformat_minor": 5
}
